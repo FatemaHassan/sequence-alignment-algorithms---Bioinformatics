{
 "cells": [
  {
   "cell_type": "code",
   "execution_count": 1,
   "metadata": {},
   "outputs": [],
   "source": [
    "import numpy as np"
   ]
  },
  {
   "cell_type": "code",
   "execution_count": 2,
   "metadata": {},
   "outputs": [],
   "source": [
    "def getSequences():\n",
    "    print(\"enter first sequence\")\n",
    "    seq1 = input()\n",
    "    print(\"enter second sequence\")\n",
    "    seq2 = input()\n",
    "    return seq1, seq2"
   ]
  },
  {
   "cell_type": "code",
   "execution_count": 3,
   "metadata": {},
   "outputs": [],
   "source": [
    "def SWAlgorithm(seq1, seq2, match, mismatch, gap):\n",
    "#     initialize array with 0s\n",
    "    result=np.zeros((len(seq1)+1,len(seq2)+1))\n",
    "#     initial max score in the table\n",
    "    maxScore=0\n",
    "#     maxScore indices\n",
    "    imax=0\n",
    "    jmax=0\n",
    "#     calculate maximum score for each cell\n",
    "    for i in range(1,len(seq1)+1):\n",
    "        for j in range(1,len(seq2)+1):\n",
    "#             calculate the 3 possible values\n",
    "            case1 = result[i-1][j-1] + (match if(seq1[i-1] == seq2[j-1]) else mismatch)\n",
    "            case2 = result[i-1][j]+gap\n",
    "            case3 = result[i][j-1]+gap\n",
    "#             put the maximum\n",
    "            result[i][j]=max(case1,case2,case3,0)\n",
    "            if result[i][j] >= maxScore:\n",
    "                imax = i\n",
    "                jmax = j\n",
    "                maxScore = result[i][j];\n",
    "    print(result)\n",
    "    return result, imax, jmax"
   ]
  },
  {
   "cell_type": "code",
   "execution_count": 4,
   "metadata": {},
   "outputs": [],
   "source": [
    "def getAlignment(matrix, seq1,seq2, imax, jmax):\n",
    "    alignmentSeq1=\"\"\n",
    "    alignmentSeq2=\"\"\n",
    "#     start from the maximum score cell\n",
    "    i=imax\n",
    "    j=jmax\n",
    "    while ((i >0 or j >0) and matrix[i][j]!=0):\n",
    "#         max neighbouring cell\n",
    "        maxCell=max(matrix[i-1][j-1],matrix[i][j-1],matrix[i-1][j])\n",
    "#     if there's a match or the diagonal neighbour cell is the maxCell\n",
    "        if (seq1[i-1] == seq2[j-1] or maxCell == matrix[i-1][j-1]):\n",
    "            alignmentSeq1=seq1[i-1] + alignmentSeq1\n",
    "            alignmentSeq2=seq2[j-1] + alignmentSeq2\n",
    "            i-=  1\n",
    "            j-=  1\n",
    "#         case of vertical gap (maxCell is the upper neighbour)\n",
    "        elif (maxCell==matrix[i-1][j]):  \n",
    "            alignmentSeq1=seq1[i-1] + alignmentSeq1\n",
    "            alignmentSeq2=\"-\" + alignmentSeq2\n",
    "            i-=1\n",
    "#         case of horizontal gap\n",
    "        else:\n",
    "            alignmentSeq1=\"-\" + alignmentSeq1\n",
    "            alignmentSeq2=seq2[j-1] + alignmentSeq2\n",
    "            j-= 1\n",
    "\n",
    "    print(alignmentSeq1)\n",
    "    print(alignmentSeq2)"
   ]
  },
  {
   "cell_type": "code",
   "execution_count": 6,
   "metadata": {},
   "outputs": [
    {
     "name": "stdout",
     "output_type": "stream",
     "text": [
      "enter first sequence\n",
      "GGTTGACTA\n",
      "enter second sequence\n",
      "TGTTACGG\n",
      "matrix:\n",
      "[[ 0.  0.  0.  0.  0.  0.  0.  0.  0.]\n",
      " [ 0.  0.  3.  1.  0.  0.  0.  3.  3.]\n",
      " [ 0.  0.  3.  1.  0.  0.  0.  3.  6.]\n",
      " [ 0.  3.  1.  6.  4.  2.  0.  1.  4.]\n",
      " [ 0.  3.  1.  4.  9.  7.  5.  3.  2.]\n",
      " [ 0.  1.  6.  4.  7.  6.  4.  8.  6.]\n",
      " [ 0.  0.  4.  3.  5. 10.  8.  6.  5.]\n",
      " [ 0.  0.  2.  1.  3.  8. 13. 11.  9.]\n",
      " [ 0.  3.  1.  5.  4.  6. 11. 10.  8.]\n",
      " [ 0.  1.  0.  3.  2.  7.  9.  8.  7.]]\n",
      "Alignment:\n",
      "GTTGAC\n",
      "GTT-AC\n"
     ]
    }
   ],
   "source": [
    "# seq1 (vertical axis), seq2 (horizontal axis)\n",
    "seq1, seq2 = getSequences()\n",
    "print(\"matrix:\")\n",
    "# match=3, mismatch = -3 gap = -2\n",
    "matrix, imax, jmax = SWAlgorithm(seq1,seq2, 3, -3, -2)\n",
    "print(\"Alignment:\")\n",
    "getAlignment(matrix,seq1, seq2, imax, jmax)"
   ]
  },
  {
   "cell_type": "code",
   "execution_count": null,
   "metadata": {},
   "outputs": [],
   "source": []
  },
  {
   "cell_type": "code",
   "execution_count": null,
   "metadata": {},
   "outputs": [],
   "source": []
  }
 ],
 "metadata": {
  "kernelspec": {
   "display_name": "Python 3",
   "language": "python",
   "name": "python3"
  },
  "language_info": {
   "codemirror_mode": {
    "name": "ipython",
    "version": 3
   },
   "file_extension": ".py",
   "mimetype": "text/x-python",
   "name": "python",
   "nbconvert_exporter": "python",
   "pygments_lexer": "ipython3",
   "version": "3.6.10"
  }
 },
 "nbformat": 4,
 "nbformat_minor": 4
}
