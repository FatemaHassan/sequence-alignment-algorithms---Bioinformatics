{
 "cells": [
  {
   "cell_type": "code",
   "execution_count": 1,
   "metadata": {},
   "outputs": [],
   "source": [
    "import numpy as np\n",
    "import math\n",
    "import matplotlib.pyplot as plt"
   ]
  },
  {
   "cell_type": "code",
   "execution_count": 2,
   "metadata": {},
   "outputs": [],
   "source": [
    "def getSequences():\n",
    "    print(\"enter first sequence\")\n",
    "    seq1 = input()\n",
    "    print(\"enter second sequence\")\n",
    "    seq2 = input()\n",
    "    return seq1, seq2"
   ]
  },
  {
   "cell_type": "code",
   "execution_count": 3,
   "metadata": {
    "scrolled": true
   },
   "outputs": [],
   "source": [
    "def getAlignment(seq1, seq2, windowSize, threshold, step):\n",
    "    result = np.zeros([len(seq1),len(seq2)], dtype=int)\n",
    "    i = 0\n",
    "#     initial window position for seq1\n",
    "    window1 = seq1[:windowSize]\n",
    "    while(i<len(seq2)- windowSize +1):\n",
    "        window2 = seq2[i:windowSize + i]\n",
    "        matching = 0;\n",
    "        j =0\n",
    "        while(j<len(seq1) - windowSize +1):\n",
    "#             use list to get the letters of each window\n",
    "            windowSeq1 = list(window1)\n",
    "            windowSeq2 = list(window2)\n",
    "            index = 0\n",
    "            matching=0\n",
    "#             compare the 2 widows' nucleotides\n",
    "            for nuc in windowSeq1:\n",
    "                    if nuc == windowSeq2[index]:\n",
    "                        matching += 1\n",
    "                    index+=1\n",
    "            if matching >= threshold:\n",
    "#                 position the dot in the middle of both windows\n",
    "                result[i+math.ceil(windowSize/2)][j+math.ceil(windowSize/2)] = 1\n",
    "            j+=step\n",
    "#             update window1 \n",
    "            if(j<len(seq1) - windowSize +1):\n",
    "                window1 = seq1[j:windowSize + j]\n",
    "            else: window1 = seq1[:windowSize]\n",
    "#         increment the window position according to the step size\n",
    "        i+=step\n",
    "    return result"
   ]
  },
  {
   "cell_type": "code",
   "execution_count": 4,
   "metadata": {
    "scrolled": true
   },
   "outputs": [],
   "source": [
    "def plotMatrix(matrix,seq1,seq2):\n",
    "    cellColors = np.zeros([len(seq1),len(seq2)],dtype=str)\n",
    "#     color the cell depending on its value\n",
    "    for i in range(len(seq1)):\n",
    "        for j in range(len(seq2)):\n",
    "            if matrix[i][j] == 1:\n",
    "                cellColors[i][j] = 0\n",
    "            else:\n",
    "                cellColors[i][j] = 1\n",
    "#     construct the plot\n",
    "    fig, ax =plt.subplots(1,1)\n",
    "    columns=seq1\n",
    "    rows=seq2\n",
    "    ax.axis('off')\n",
    "    rcolors = plt.cm.BuPu(np.full(len(seq1), 0.8))\n",
    "    ccolors = plt.cm.BuPu(np.full(len(seq2), 0.8))\n",
    "    ax.table(cellText=matrix,colLabels=columns,rowLabels=rows,rowColours=rcolors,colColours=ccolors,cellColours=cellColors,loc=\"center\")\n",
    "    plt.show()"
   ]
  },
  {
   "cell_type": "code",
   "execution_count": 8,
   "metadata": {},
   "outputs": [
    {
     "name": "stdout",
     "output_type": "stream",
     "text": [
      "enter first sequence\n",
      "CCATCGCCATCG\n",
      "enter second sequence\n",
      "GCATCGGCTACG\n"
     ]
    },
    {
     "data": {
      "image/png": "[encoded data removed]",
      "text/plain": [
       "<Figure size 432x288 with 1 Axes>"
      ]
     },
     "metadata": {
      "needs_background": "light"
     },
     "output_type": "display_data"
    }
   ],
   "source": [
    "seq1, seq2 = getSequences()\n",
    "# window size=3 threshold=2, step=1\n",
    "result = getAlignment(seq1, seq2, 3, 2, 1)\n",
    "plotMatrix(result,list(seq1),list(seq2))"
   ]
  },
  {
   "cell_type": "code",
   "execution_count": null,
   "metadata": {},
   "outputs": [],
   "source": []
  },
  {
   "cell_type": "code",
   "execution_count": null,
   "metadata": {},
   "outputs": [],
   "source": []
  }
 ],
 "metadata": {
  "kernelspec": {
   "display_name": "Python 3",
   "language": "python",
   "name": "python3"
  },
  "language_info": {
   "codemirror_mode": {
    "name": "ipython",
    "version": 3
   },
   "file_extension": ".py",
   "mimetype": "text/x-python",
   "name": "python",
   "nbconvert_exporter": "python",
   "pygments_lexer": "ipython3",
   "version": "3.6.10"
  }
 },
 "nbformat": 4,
 "nbformat_minor": 4
}
