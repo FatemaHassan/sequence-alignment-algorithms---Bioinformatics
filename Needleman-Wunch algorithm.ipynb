{
 "cells": [
  {
   "cell_type": "code",
   "execution_count": 1,
   "metadata": {},
   "outputs": [],
   "source": [
    "import numpy as np"
   ]
  },
  {
   "cell_type": "code",
   "execution_count": 2,
   "metadata": {},
   "outputs": [],
   "source": [
    "def getSequences():\n",
    "    print(\"enter first sequence\")\n",
    "    seq1 = input()\n",
    "    print(\"enter second sequence\")\n",
    "    seq2 = input()\n",
    "    return seq1, seq2"
   ]
  },
  {
   "cell_type": "code",
   "execution_count": 3,
   "metadata": {},
   "outputs": [],
   "source": [
    "def NWAlgorithm(seq1, seq2, match, mismatch, gap):\n",
    "#     initialize array with 0s\n",
    "    result=np.zeros((len(seq1)+1,len(seq2)+1))\n",
    "#     calculate the initial cumulative gaps\n",
    "    for i in range(len(seq1)+1):\n",
    "        result[i][0]=i*gap\n",
    "    for j in range(len(seq2)+1):\n",
    "        result[0][j]=j*gap\n",
    "#     calculate maximum score for each cell\n",
    "    for i in range(1,len(seq1)+1):\n",
    "        for j in range(1,len(seq2)+1):\n",
    "#             calculate the 3 possible values\n",
    "            case1 = result[i-1][j-1] + (match if(seq1[i-1] == seq2[j-1]) else mismatch)\n",
    "            case2 = result[i-1][j]+gap\n",
    "            case3 = result[i][j-1]+gap\n",
    "#             put the maximum\n",
    "            result[i][j]=max(case1,case2,case3)\n",
    "    print(result)\n",
    "    return result"
   ]
  },
  {
   "cell_type": "code",
   "execution_count": 5,
   "metadata": {},
   "outputs": [],
   "source": [
    "def getAlignment(matrix, seq1,seq2):\n",
    "    alignmentSeq1=\"\"\n",
    "    alignmentSeq2=\"\"\n",
    "#     start from the last cell\n",
    "    i=len(seq1)\n",
    "    j=len(seq2)\n",
    "    while (i >0 or j >0):\n",
    "#         max neigbouring cell\n",
    "        maxCell=max(matrix[i-1][j-1],matrix[i][j-1],matrix[i-1][j])\n",
    "#     if there's a match or the diagonal neighbour cell is the maxCell\n",
    "        if (seq1[i-1] == seq2[j-1] or maxCell == matrix[i-1][j-1]):\n",
    "            alignmentSeq1=seq1[i-1] + alignmentSeq1\n",
    "            alignmentSeq2=seq2[j-1] + alignmentSeq2\n",
    "            i-=  1\n",
    "            j-=  1\n",
    "            \n",
    "#         case of vertical gap (maxCell is the upper neighbour)\n",
    "        elif (maxCell==matrix[i-1][j]):  \n",
    "            alignmentSeq1=seq1[i-1] + alignmentSeq1\n",
    "            alignmentSeq2=\"-\" + alignmentSeq2\n",
    "            i-=1\n",
    "#         case of horizontal gaps\n",
    "        else:\n",
    "            alignmentSeq1=\"-\" + alignmentSeq1\n",
    "            alignmentSeq2=seq2[j-1] + alignmentSeq2\n",
    "            j-= 1\n",
    "\n",
    "    print(alignmentSeq1)\n",
    "    print(alignmentSeq2)\n"
   ]
  },
  {
   "cell_type": "code",
   "execution_count": 6,
   "metadata": {},
   "outputs": [
    {
     "name": "stdout",
     "output_type": "stream",
     "text": [
      "enter first sequence\n",
      "TTCATA\n",
      "enter second sequence\n",
      "TGCTCGTA\n",
      "matrix: \n",
      "[[ 0. -1. -2. -3. -4. -5. -6. -7. -8.]\n",
      " [-1.  2.  1.  0. -1. -2. -3. -4. -5.]\n",
      " [-2.  1.  1.  0.  2.  1.  0. -1. -2.]\n",
      " [-3.  0.  0.  3.  2.  4.  3.  2.  1.]\n",
      " [-4. -1. -1.  2.  2.  3.  3.  2.  4.]\n",
      " [-5. -2. -2.  1.  4.  3.  2.  5.  4.]\n",
      " [-6. -3. -3.  0.  3.  3.  2.  4.  7.]]\n",
      "alignment: \n",
      "T--TCATA\n",
      "TGCTCGTA\n"
     ]
    }
   ],
   "source": [
    "# seq1 (vertical axis), seq2 (horizontal axis)\n",
    "seq1, seq2 = getSequences()\n",
    "print(\"matrix: \")\n",
    "# match=1, mismatch = gap = -1\n",
    "matrix = NWAlgorithm(seq1,seq2, 2, -1, -1)\n",
    "print(\"alignment: \")\n",
    "getAlignment(matrix,seq1,seq2)"
   ]
  },
  {
   "cell_type": "code",
   "execution_count": null,
   "metadata": {},
   "outputs": [],
   "source": []
  }
 ],
 "metadata": {
  "kernelspec": {
   "display_name": "Python 3",
   "language": "python",
   "name": "python3"
  },
  "language_info": {
   "codemirror_mode": {
    "name": "ipython",
    "version": 3
   },
   "file_extension": ".py",
   "mimetype": "text/x-python",
   "name": "python",
   "nbconvert_exporter": "python",
   "pygments_lexer": "ipython3",
   "version": "3.6.10"
  }
 },
 "nbformat": 4,
 "nbformat_minor": 4
}
